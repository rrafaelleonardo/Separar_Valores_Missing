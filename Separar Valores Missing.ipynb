{
 "cells": [
  {
   "cell_type": "code",
   "execution_count": null,
   "id": "e4044dd1",
   "metadata": {},
   "outputs": [],
   "source": [
    "# Método I - Importar função\n",
    "import os\n",
    "import separar_valores_missing"
   ]
  },
  {
   "cell_type": "code",
   "execution_count": null,
   "id": "ea7f0689",
   "metadata": {},
   "outputs": [],
   "source": [
    "# Método II - Importar função\n",
    "#import os\n",
    "#from separar_valores_missing import separar_valores_missing"
   ]
  },
  {
   "cell_type": "code",
   "execution_count": null,
   "id": "ffde50d5",
   "metadata": {},
   "outputs": [],
   "source": [
    "# Método III - Importar função\n",
    "#import os\n",
    "#from separar_valores_missing import *"
   ]
  },
  {
   "cell_type": "code",
   "execution_count": null,
   "id": "64c91948",
   "metadata": {},
   "outputs": [],
   "source": [
    "# Verificar se função foi importada\n",
    "separar_valores_missing"
   ]
  },
  {
   "cell_type": "code",
   "execution_count": null,
   "id": "3286d863",
   "metadata": {},
   "outputs": [],
   "source": [
    "# Importar Biblioteca\n",
    "import pandas as pd"
   ]
  },
  {
   "cell_type": "code",
   "execution_count": null,
   "id": "dcd6cf8c",
   "metadata": {},
   "outputs": [],
   "source": [
    "# Dados do Github\n",
    "link = \"https://raw.githubusercontent.com/rrafaelleonardo/Database/main/dados.csv\""
   ]
  },
  {
   "cell_type": "code",
   "execution_count": null,
   "id": "10a14445",
   "metadata": {},
   "outputs": [],
   "source": [
    "# Carregar conjunto de dados\n",
    "df = pd.read_csv(link, sep = \",\")\n",
    "df.head(3)"
   ]
  },
  {
   "cell_type": "code",
   "execution_count": null,
   "id": "f7783ae2",
   "metadata": {},
   "outputs": [],
   "source": [
    "# Método II ou III - Verificar parâmetro(s) da função\n",
    "#separar_valores_missing"
   ]
  },
  {
   "cell_type": "code",
   "execution_count": null,
   "id": "20fa7110",
   "metadata": {},
   "outputs": [],
   "source": [
    "# Método II ou III - Uso da Fução\n",
    "#separar_valores_missing(df);"
   ]
  },
  {
   "cell_type": "code",
   "execution_count": null,
   "id": "7b46f5bf",
   "metadata": {},
   "outputs": [],
   "source": [
    "# Método I - Verificar parâmetro(s) da função\n",
    "separar_valores_missing.separar_valores_missing"
   ]
  },
  {
   "cell_type": "code",
   "execution_count": null,
   "id": "9ce920bc",
   "metadata": {},
   "outputs": [],
   "source": [
    "# Método I - Uso da Fução\n",
    "separar_valores_missing.separar_valores_missing(df);"
   ]
  }
 ],
 "metadata": {
  "kernelspec": {
   "display_name": "Python 3 (ipykernel)",
   "language": "python",
   "name": "python3"
  },
  "language_info": {
   "codemirror_mode": {
    "name": "ipython",
    "version": 3
   },
   "file_extension": ".py",
   "mimetype": "text/x-python",
   "name": "python",
   "nbconvert_exporter": "python",
   "pygments_lexer": "ipython3",
   "version": "3.9.13"
  }
 },
 "nbformat": 4,
 "nbformat_minor": 5
}
