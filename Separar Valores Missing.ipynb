{
 "cells": [
  {
   "cell_type": "code",
   "execution_count": 1,
   "id": "e4044dd1",
   "metadata": {},
   "outputs": [],
   "source": [
    "# Método I - Importar função\n",
    "import os\n",
    "import separar_valores_missing"
   ]
  },
  {
   "cell_type": "code",
   "execution_count": null,
   "id": "ea7f0689",
   "metadata": {},
   "outputs": [],
   "source": [
    "# Método II - Importar função\n",
    "#import os\n",
    "#from separar_valores_missing import separar_valores_missing"
   ]
  },
  {
   "cell_type": "code",
   "execution_count": null,
   "id": "ffde50d5",
   "metadata": {},
   "outputs": [],
   "source": [
    "# Método III - Importar função\n",
    "#import os\n",
    "#from separar_valores_missing import *"
   ]
  },
  {
   "cell_type": "code",
   "execution_count": 2,
   "id": "64c91948",
   "metadata": {},
   "outputs": [
    {
     "data": {
      "text/plain": [
       "<module 'separar_valores_missing' from 'C:\\\\Users\\\\Rafael\\\\Documents\\\\Programacao\\\\Python\\\\Data-Cleaning\\\\separar_valores_missing.py'>"
      ]
     },
     "execution_count": 2,
     "metadata": {},
     "output_type": "execute_result"
    }
   ],
   "source": [
    "# Verificar se função foi importada\n",
    "separar_valores_missing"
   ]
  },
  {
   "cell_type": "code",
   "execution_count": 3,
   "id": "3286d863",
   "metadata": {},
   "outputs": [],
   "source": [
    "# Importar Biblioteca\n",
    "import pandas as pd"
   ]
  },
  {
   "cell_type": "code",
   "execution_count": 4,
   "id": "dcd6cf8c",
   "metadata": {},
   "outputs": [],
   "source": [
    "# Dados do Github\n",
    "link = \"https://raw.githubusercontent.com/rrafaelleonardo/Database/main/dados.csv\""
   ]
  },
  {
   "cell_type": "code",
   "execution_count": 5,
   "id": "b0777df9",
   "metadata": {},
   "outputs": [
    {
     "data": {
      "text/html": [
       "<div>\n",
       "<style scoped>\n",
       "    .dataframe tbody tr th:only-of-type {\n",
       "        vertical-align: middle;\n",
       "    }\n",
       "\n",
       "    .dataframe tbody tr th {\n",
       "        vertical-align: top;\n",
       "    }\n",
       "\n",
       "    .dataframe thead th {\n",
       "        text-align: right;\n",
       "    }\n",
       "</style>\n",
       "<table border=\"1\" class=\"dataframe\">\n",
       "  <thead>\n",
       "    <tr style=\"text-align: right;\">\n",
       "      <th></th>\n",
       "      <th>UF</th>\n",
       "      <th>IDADE</th>\n",
       "      <th>ESCOLARIDADE</th>\n",
       "      <th>ESTADO_CIVIL</th>\n",
       "      <th>QT_FILHOS</th>\n",
       "      <th>VL_IMOVEIS</th>\n",
       "      <th>TEMPO_ULTIMO_EMPREGO_MESES</th>\n",
       "      <th>ULTIMO_SALARIO</th>\n",
       "      <th>VALOR_TABELA_CARROS</th>\n",
       "      <th>SCORE_CREDITO</th>\n",
       "      <th>EMPRESTIMO</th>\n",
       "    </tr>\n",
       "  </thead>\n",
       "  <tbody>\n",
       "    <tr>\n",
       "      <th>0</th>\n",
       "      <td>SP</td>\n",
       "      <td>19</td>\n",
       "      <td>Superior Cursando</td>\n",
       "      <td>Solteiro</td>\n",
       "      <td>0</td>\n",
       "      <td>0.0</td>\n",
       "      <td>8.0</td>\n",
       "      <td>1800.0</td>\n",
       "      <td>0.0</td>\n",
       "      <td>56</td>\n",
       "      <td>SIM</td>\n",
       "    </tr>\n",
       "    <tr>\n",
       "      <th>1</th>\n",
       "      <td>MG</td>\n",
       "      <td>23</td>\n",
       "      <td>Superior Completo</td>\n",
       "      <td>Solteiro</td>\n",
       "      <td>1</td>\n",
       "      <td>0.0</td>\n",
       "      <td>9.0</td>\n",
       "      <td>4800.0</td>\n",
       "      <td>50000.0</td>\n",
       "      <td>18</td>\n",
       "      <td>NAO</td>\n",
       "    </tr>\n",
       "    <tr>\n",
       "      <th>2</th>\n",
       "      <td>SC</td>\n",
       "      <td>25</td>\n",
       "      <td>Segundo Grau Completo</td>\n",
       "      <td>Casado</td>\n",
       "      <td>0</td>\n",
       "      <td>220000.0</td>\n",
       "      <td>18.0</td>\n",
       "      <td>2200.0</td>\n",
       "      <td>30000.0</td>\n",
       "      <td>45</td>\n",
       "      <td>SIM</td>\n",
       "    </tr>\n",
       "  </tbody>\n",
       "</table>\n",
       "</div>"
      ],
      "text/plain": [
       "   UF  IDADE           ESCOLARIDADE ESTADO_CIVIL  QT_FILHOS  VL_IMOVEIS  \\\n",
       "0  SP     19      Superior Cursando     Solteiro          0         0.0   \n",
       "1  MG     23      Superior Completo     Solteiro          1         0.0   \n",
       "2  SC     25  Segundo Grau Completo       Casado          0    220000.0   \n",
       "\n",
       "   TEMPO_ULTIMO_EMPREGO_MESES  ULTIMO_SALARIO  VALOR_TABELA_CARROS  \\\n",
       "0                         8.0          1800.0                  0.0   \n",
       "1                         9.0          4800.0              50000.0   \n",
       "2                        18.0          2200.0              30000.0   \n",
       "\n",
       "   SCORE_CREDITO EMPRESTIMO  \n",
       "0             56        SIM  \n",
       "1             18        NAO  \n",
       "2             45        SIM  "
      ]
     },
     "execution_count": 5,
     "metadata": {},
     "output_type": "execute_result"
    }
   ],
   "source": [
    "# Carregar conjunto de dados\n",
    "df = pd.read_csv(link, sep = \",\")\n",
    "df.head(3)"
   ]
  },
  {
   "cell_type": "code",
   "execution_count": null,
   "id": "f7783ae2",
   "metadata": {},
   "outputs": [],
   "source": [
    "# Método II - Verificar parâmetro(s) da função\n",
    "#separar_valores_missing"
   ]
  },
  {
   "cell_type": "code",
   "execution_count": null,
   "id": "20fa7110",
   "metadata": {},
   "outputs": [],
   "source": [
    "# Método II - Uso da Fução\n",
    "#separar_valores_missing(df);"
   ]
  },
  {
   "cell_type": "code",
   "execution_count": 6,
   "id": "7b46f5bf",
   "metadata": {},
   "outputs": [
    {
     "data": {
      "text/plain": [
       "<function separar_valores_missing.separar_valores_missing(nomeDataframe)>"
      ]
     },
     "execution_count": 6,
     "metadata": {},
     "output_type": "execute_result"
    }
   ],
   "source": [
    "# Método I - Verificar parâmetro(s) da função\n",
    "separar_valores_missing.separar_valores_missing"
   ]
  },
  {
   "cell_type": "code",
   "execution_count": 7,
   "id": "9ce920bc",
   "metadata": {},
   "outputs": [
    {
     "name": "stdout",
     "output_type": "stream",
     "text": [
      "ATENÇÃO:\n",
      "Arquivos (missing.csv e database.csv) salvos na mesma pasta na qual está o arquivo com extensão .ipynb\n",
      "\n",
      "\n",
      " RESUMO INFORMATIVO\n",
      "Índice Dados Missing:\n",
      "\n",
      "[   4   13   23   32   46   61   62   63   64   65 1012 1013 1014 1015\n",
      " 1016 1017 1018 1019 1020 1021 1022 1023 1024 1025 1026 1027 1028 1059\n",
      " 1060 1061 1062 1063 1064 1065 1066 1067 1068 1069 1070 1071 1072 1073\n",
      " 1074 1075 1076 1077 1078 1079 1080 1081 1082 1083 1084 1085 1086 1087\n",
      " 1088 1089 1090 1091 1092 1093 1094 1095 1096 1097 1098 1099 1100 1101\n",
      " 1102 1103 1104 1105 1106]\n",
      "\n",
      "------------------------------------------------------------------------\n",
      "Total de Missing: 123\n",
      "nº Total de linhas: 2000\n",
      "nº de linhas de Dados Missing: 75\n",
      "nº de linhas Sem Dados Missing: 1925\n"
     ]
    }
   ],
   "source": [
    "# Método I - Uso da Fução\n",
    "separar_valores_missing.separar_valores_missing(df);"
   ]
  }
 ],
 "metadata": {
  "kernelspec": {
   "display_name": "Python 3 (ipykernel)",
   "language": "python",
   "name": "python3"
  },
  "language_info": {
   "codemirror_mode": {
    "name": "ipython",
    "version": 3
   },
   "file_extension": ".py",
   "mimetype": "text/x-python",
   "name": "python",
   "nbconvert_exporter": "python",
   "pygments_lexer": "ipython3",
   "version": "3.9.13"
  }
 },
 "nbformat": 4,
 "nbformat_minor": 5
}
